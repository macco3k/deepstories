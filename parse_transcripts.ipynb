{
 "cells": [
  {
   "cell_type": "code",
   "execution_count": 2,
   "metadata": {},
   "outputs": [],
   "source": [
    "import string\n",
    "import re # just in case\n",
    "import os"
   ]
  },
  {
   "cell_type": "code",
   "execution_count": 90,
   "metadata": {},
   "outputs": [],
   "source": [
    "# TODO make separate parsers for pre-sleepmask and post-sleepmark playthroughs.\n",
    "# first sleepmask game: dig-my-grave\n",
    "\n",
    "def parse_sleepmask(infile, outfile):\n",
    "    # open the file and start stripping all lines not starting with \"\"\"Floyd |\"\"\"\n",
    "    with open(infile, 'r', encoding='utf-8') as inf, open(outfile, 'w', encoding='utf-8') as outf:\n",
    "        content = inf.read()\n",
    "        \n",
    "        intro = False\n",
    "        \n",
    "        loads = re.finditer(string=content, pattern=r'says \\(to Floyd\\), \"load sleepmask (.+)\"', flags=re.IGNORECASE)\n",
    "        # keep the last reference\n",
    "        *_, last = loads\n",
    "        end = last.end()\n",
    "        \n",
    "        # reposition after the load line\n",
    "        content = content[end:]\n",
    "        \n",
    "        # remove about and version commands \n",
    "        content = re.sub(repl='', string=content, pattern=r'says \\(to Floyd\\), \"about\".*?says \\(to Floyd\\), \"Q\"', flags=re.IGNORECASE | re.DOTALL)\n",
    "        content = re.sub(repl='', string=content, pattern=r'says \\(to Floyd\\), \"version\".*?Floyd \\| >\\n', flags=re.IGNORECASE | re.DOTALL)\n",
    "        \n",
    "        for line in content.split('\\n'):\n",
    "            # From here on, we consider everything part of the game. Just strip blank lines            \n",
    "            if re.match(string=line, pattern=r'^Floyd\\s\\|\\s>$'):\n",
    "                continue\n",
    "            \n",
    "            # exclude headers (ending with the ']' sign)\n",
    "            match = re.match(string=line, pattern=r'^Floyd [\\|] ((>*).+)')\n",
    "            if match:\n",
    "                if match.group(2):\n",
    "                    outf.write('\\n{}\\n'.format(match.group(1).strip()))\n",
    "                else:\n",
    "                    outf.write('{}\\n'.format(match.group(1)))     "
   ]
  },
  {
   "cell_type": "code",
   "execution_count": 91,
   "metadata": {},
   "outputs": [],
   "source": [
    "infile = 'raw-eurydice.txt'\n",
    "outfile = 'parsed-eurydice.txt'\n",
    "\n",
    "parse_sleepmask(infile, outfile)"
   ]
  },
  {
   "cell_type": "code",
   "execution_count": null,
   "metadata": {},
   "outputs": [],
   "source": []
  }
 ],
 "metadata": {
  "kernelspec": {
   "display_name": "ml (3.6)",
   "language": "python",
   "name": "ml"
  },
  "language_info": {
   "codemirror_mode": {
    "name": "ipython",
    "version": 3
   },
   "file_extension": ".py",
   "mimetype": "text/x-python",
   "name": "python",
   "nbconvert_exporter": "python",
   "pygments_lexer": "ipython3",
   "version": "3.6.4"
  }
 },
 "nbformat": 4,
 "nbformat_minor": 2
}
