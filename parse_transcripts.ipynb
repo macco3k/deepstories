{
 "cells": [
  {
   "cell_type": "code",
   "execution_count": 3,
   "metadata": {},
   "outputs": [],
   "source": [
    "import string\n",
    "import re\n",
    "import os"
   ]
  },
  {
   "cell_type": "code",
   "execution_count": 64,
   "metadata": {},
   "outputs": [],
   "source": [
    "# TODO make separate parsers for pre-sleepmask and post-sleepmark playthroughs.\n",
    "# first sleepmask game: dig-my-grave\n",
    "\n",
    "commands = {\n",
    "    'x (.+)$': 'examine \\g<1>',\n",
    "    'l' : 'look',\n",
    "    'w' : 'west',\n",
    "    'e' : 'east',\n",
    "    'n' : 'north',\n",
    "    's' : 'south',\n",
    "    'i' : 'inventory',\n",
    "    'z' : 'wait',\n",
    "    'g' : 'again'            \n",
    "}\n",
    "\n",
    "def parse_sleepmask(infile, outfile):\n",
    "    # open the file and start stripping all lines not starting with \"\"\"Floyd |\"\"\"\n",
    "    with open(infile, 'r', encoding='utf-8') as inf, open(outfile, 'w', encoding='utf-8') as outf:\n",
    "        content = inf.read()\n",
    "        \n",
    "        intro = False\n",
    "        \n",
    "        loads = re.finditer(string=content, pattern=r'says \\(to Floyd\\), \"load sleepmask (.+)\"', flags=re.IGNORECASE)\n",
    "        # keep the last reference\n",
    "        *_, last = loads\n",
    "        end = last.end()\n",
    "        \n",
    "        # reposition after the load line\n",
    "        content = content[end:]\n",
    "        \n",
    "        # remove about and version commands \n",
    "        content = re.sub(repl='', string=content, pattern=r'says \\(to Floyd\\), \"about\".*?says \\(to Floyd\\), \"Q\"', flags=re.IGNORECASE | re.DOTALL)\n",
    "        content = re.sub(repl='', string=content, pattern=r'says \\(to Floyd\\), \"version\".*?Floyd \\| >\\n', flags=re.IGNORECASE | re.DOTALL)\n",
    "        \n",
    "        scene = []\n",
    "        \n",
    "        for line in content.split('\\n'):\n",
    "         Just strip blank lines            \n",
    "            if re.match(string=line, pattern=r'^Floyd\\s\\|\\s>$'):\n",
    "                continue\n",
    "            \n",
    "            # scene descriptions\n",
    "            match = re.match(string=line, pattern=r'^Floyd \\| ([^>##\\n]+)', flags=re.IGNORECASE)\n",
    "            if match:\n",
    "                scene.append(match.group(1).strip().lower())\n",
    "            \n",
    "            # user's commands are appended to the current scene\n",
    "            match = re.match(string=line, pattern=r'^Floyd \\| > ([^\\n]+)', flags=re.IGNORECASE)        \n",
    "            if match:\n",
    "                command = match.group(1).strip().lower()\n",
    "                # replace shortcuts\n",
    "                for pattern,repl in commands.items():\n",
    "                    comm_match = re.match(string=match.group(1).strip().lower(), pattern=pattern)\n",
    "                    if comm_match:\n",
    "                        command = re.sub(string=command, pattern=pattern, repl=repl)\n",
    "                \n",
    "                newline = '{}\\n{}\\n'.format(' '.join(scene), command)\n",
    "#                 newline = re.sub(pattern=r'[^\\w\\s]', repl='', string=newline)\n",
    "                outf.write(newline)\n",
    "                \n",
    "                scene = []"
   ]
  },
  {
   "cell_type": "code",
   "execution_count": 65,
   "metadata": {},
   "outputs": [],
   "source": [
    "infile = 'raw-eurydice.txt'\n",
    "outfile = 'parsed-eurydice.txt'\n",
    "\n",
    "parse_sleepmask(infile, outfile)"
   ]
  }
 ],
 "metadata": {
  "kernelspec": {
   "display_name": "ml (3.6)",
   "language": "python",
   "name": "ml"
  },
  "language_info": {
   "codemirror_mode": {
    "name": "ipython",
    "version": 3
   },
   "file_extension": ".py",
   "mimetype": "text/x-python",
   "name": "python",
   "nbconvert_exporter": "python",
   "pygments_lexer": "ipython3",
   "version": "3.6.4"
  }
 },
 "nbformat": 4,
 "nbformat_minor": 2
}
